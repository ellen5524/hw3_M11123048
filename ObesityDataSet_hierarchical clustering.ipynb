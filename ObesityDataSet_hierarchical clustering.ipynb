{
 "cells": [
  {
   "cell_type": "code",
   "execution_count": 1,
   "id": "3338483a",
   "metadata": {},
   "outputs": [],
   "source": [
    "import numpy as np\n",
    "import matplotlib.pyplot as plt\n",
    "import pandas as pd\n",
    "from sklearn import datasets\n",
    "from sklearn.cluster import AgglomerativeClustering\n",
    "from sklearn import cluster"
   ]
  },
  {
   "cell_type": "code",
   "execution_count": 2,
   "id": "ec560d2b",
   "metadata": {},
   "outputs": [],
   "source": [
    "dataset = pd.read_csv('D:/Datamining/ObesityDataSet_raw_and_data_sinthetic.csv', na_values = '?')\n",
    "df = dataset\n",
    "df = df.replace('?', np.NaN)\n",
    "df = df.dropna()"
   ]
  },
  {
   "cell_type": "code",
   "execution_count": 3,
   "id": "a7495689",
   "metadata": {},
   "outputs": [],
   "source": [
    "#資料轉換(one-hot)\n",
    "from sklearn.preprocessing import LabelEncoder\n",
    "le = LabelEncoder()\n",
    "for col in df[['Gender', 'family_history_with_overweight', 'FAVC', 'CAEC', 'SMOKE', 'SCC', 'CALC', 'MTRANS', 'NObeyesdad']]: \n",
    "    df[col] = le.fit_transform(df[col])"
   ]
  },
  {
   "cell_type": "code",
   "execution_count": 4,
   "id": "f7efc9d6",
   "metadata": {},
   "outputs": [
    {
     "name": "stdout",
     "output_type": "stream",
     "text": [
      "分群時間： 0:00:00.223402\n"
     ]
    }
   ],
   "source": [
    "from sklearn import cluster\n",
    "from datetime import datetime\n",
    "\n",
    "start = datetime.now()\n",
    "\n",
    "hclust_fit = AgglomerativeClustering(n_clusters=7, affinity='euclidean', linkage='ward').fit(df) \n",
    "\n",
    "end = datetime.now()\n",
    "time = end - start\n",
    "\n",
    "print(\"分群時間：\", time)\n",
    "\n",
    "y = df['NObeyesdad'] \n",
    "\n",
    "cluster_labels = hclust_fit.labels_"
   ]
  },
  {
   "cell_type": "code",
   "execution_count": 5,
   "id": "e373a568",
   "metadata": {},
   "outputs": [
    {
     "name": "stdout",
     "output_type": "stream",
     "text": [
      "0.5362387494078635\n"
     ]
    }
   ],
   "source": [
    "import numpy as np\n",
    "from sklearn import metrics\n",
    "\n",
    "def purity_score(y_true, y_pred):\n",
    "    # compute contingency matrix (also called confusion matrix)\n",
    "    contingency_matrix = metrics.cluster.contingency_matrix(y_true, y_pred)\n",
    "    # return purity\n",
    "    return np.sum(np.amax(contingency_matrix, axis=0)) / np.sum(contingency_matrix) \n",
    "\n",
    "print(purity_score(y,cluster_labels))"
   ]
  },
  {
   "cell_type": "code",
   "execution_count": 6,
   "id": "c1d4fb5c",
   "metadata": {},
   "outputs": [
    {
     "name": "stdout",
     "output_type": "stream",
     "text": [
      "Silhouette Coefficient: 0.3796212465334432\n"
     ]
    }
   ],
   "source": [
    "from sklearn import metrics\n",
    "from sklearn.metrics import pairwise_distances\n",
    "\n",
    "#輸出Silhouette Coefficient指標\n",
    "print(\"Silhouette Coefficient:\",metrics.silhouette_score(df, cluster_labels, metric='euclidean'))"
   ]
  },
  {
   "cell_type": "code",
   "execution_count": 7,
   "id": "93a33223",
   "metadata": {},
   "outputs": [
    {
     "data": {
      "image/png": "[encoded data removed]",
      "text/plain": [
       "<Figure size 432x288 with 1 Axes>"
      ]
     },
     "metadata": {
      "needs_background": "light"
     },
     "output_type": "display_data"
    }
   ],
   "source": [
    "from scipy.cluster import hierarchy\n",
    "import matplotlib.pyplot as plt\n",
    "\n",
    "dendrogram = hierarchy.dendrogram(hierarchy.linkage(df, method='ward'))"
   ]
  },
  {
   "cell_type": "code",
   "execution_count": null,
   "id": "7d97ca4c",
   "metadata": {},
   "outputs": [],
   "source": []
  }
 ],
 "metadata": {
  "kernelspec": {
   "display_name": "Python 3 (ipykernel)",
   "language": "python",
   "name": "python3"
  },
  "language_info": {
   "codemirror_mode": {
    "name": "ipython",
    "version": 3
   },
   "file_extension": ".py",
   "mimetype": "text/x-python",
   "name": "python",
   "nbconvert_exporter": "python",
   "pygments_lexer": "ipython3",
   "version": "3.9.12"
  }
 },
 "nbformat": 4,
 "nbformat_minor": 5
}
