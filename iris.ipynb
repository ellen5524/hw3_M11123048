{
 "cells": [
  {
   "cell_type": "code",
   "execution_count": 1,
   "id": "6ecb191b",
   "metadata": {},
   "outputs": [],
   "source": [
    "import pandas as pd\n",
    "import numpy as np\n",
    "from sklearn.model_selection import train_test_split"
   ]
  },
  {
   "cell_type": "code",
   "execution_count": 2,
   "id": "70519266",
   "metadata": {},
   "outputs": [],
   "source": [
    "dataset = pd.read_csv('D:/Datamining/iris.csv', na_values = '?', names = [\"sepal_length\", \"sepal_width\",\"petal_length\", \"petal_width\", \"class\"])\n",
    "df = dataset"
   ]
  },
  {
   "cell_type": "code",
   "execution_count": 3,
   "id": "3fd95e99",
   "metadata": {},
   "outputs": [],
   "source": [
    "#資料轉換(one-hot)\n",
    "from sklearn.preprocessing import LabelEncoder\n",
    "le = LabelEncoder()\n",
    "for col in df[[\"class\"]]: \n",
    "    df[col] = le.fit_transform(df[col])"
   ]
  },
  {
   "cell_type": "code",
   "execution_count": 4,
   "id": "fba46fc5",
   "metadata": {},
   "outputs": [
    {
     "name": "stdout",
     "output_type": "stream",
     "text": [
      "分群時間： 0:00:00.064822\n"
     ]
    }
   ],
   "source": [
    "from sklearn import cluster\n",
    "from datetime import datetime\n",
    "\n",
    "start = datetime.now()\n",
    "\n",
    "#KMeans演算法\n",
    "kmeans_fit = cluster.KMeans(n_clusters = 3, random_state = 42).fit(df) \n",
    "\n",
    "end = datetime.now()\n",
    "time = end - start\n",
    "\n",
    "print(\"分群時間：\", time)\n",
    "\n",
    "y = df['class'] \n",
    "\n",
    "cluster_labels = kmeans_fit.labels_"
   ]
  },
  {
   "cell_type": "code",
   "execution_count": 5,
   "id": "5697d74f",
   "metadata": {},
   "outputs": [
    {
     "name": "stdout",
     "output_type": "stream",
     "text": [
      "0.9933333333333333\n"
     ]
    }
   ],
   "source": [
    "import numpy as np\n",
    "from sklearn import metrics\n",
    "\n",
    "def purity_score(y_true, y_pred):\n",
    "    # compute contingency matrix (also called confusion matrix)\n",
    "    contingency_matrix = metrics.cluster.contingency_matrix(y_true, y_pred)\n",
    "    # return purity\n",
    "    return np.sum(np.amax(contingency_matrix, axis=0)) / np.sum(contingency_matrix) \n",
    "\n",
    "print(purity_score(y,cluster_labels))"
   ]
  },
  {
   "cell_type": "code",
   "execution_count": 11,
   "id": "35e2b817",
   "metadata": {},
   "outputs": [
    {
     "name": "stdout",
     "output_type": "stream",
     "text": [
      "Silhouette Coefficient: 0.5816937070990904\n"
     ]
    }
   ],
   "source": [
    "from sklearn import metrics\n",
    "from sklearn.metrics import pairwise_distances\n",
    "\n",
    "#輸出Silhouette Coefficient指標\n",
    "print(\"Silhouette Coefficient:\",metrics.silhouette_score(df, cluster_labels, metric='euclidean'))"
   ]
  },
  {
   "cell_type": "code",
   "execution_count": 12,
   "id": "58b2631f",
   "metadata": {},
   "outputs": [
    {
     "data": {
      "image/png": "[encoded data removed]",
      "text/plain": [
       "<Figure size 432x288 with 1 Axes>"
      ]
     },
     "metadata": {
      "needs_background": "light"
     },
     "output_type": "display_data"
    }
   ],
   "source": [
    "import matplotlib.pyplot as plt\n",
    "\n",
    "C0 = df[cluster_labels == 0]\n",
    "C1 = df[cluster_labels == 1]\n",
    "C2 = df[cluster_labels == 2]\n",
    "\n",
    "\n",
    "plt.scatter(C0['petal_length'],C0['petal_width'],marker='X',c=\"blue\",s=60,label = 'Iris-setosa' )\n",
    "plt.scatter(C1['petal_length'],C1['petal_width'],marker='p',c=\"orange\",s=60, label = 'Iris-versicolor')\n",
    "plt.scatter(C2['petal_length'],C2['petal_width'],marker='D',c=\"green\",s=60,label = 'Iris-virginica')\n",
    "\n",
    "plt.xlabel('petal_length')\n",
    "plt.ylabel('petal_width')\n",
    "plt.title('Iris\\'s petal length and petal width in KMeans')\n",
    "plt.legend()\n",
    "plt.show()"
   ]
  },
  {
   "cell_type": "code",
   "execution_count": null,
   "id": "1464c18d",
   "metadata": {},
   "outputs": [],
   "source": []
  }
 ],
 "metadata": {
  "kernelspec": {
   "display_name": "Python 3 (ipykernel)",
   "language": "python",
   "name": "python3"
  },
  "language_info": {
   "codemirror_mode": {
    "name": "ipython",
    "version": 3
   },
   "file_extension": ".py",
   "mimetype": "text/x-python",
   "name": "python",
   "nbconvert_exporter": "python",
   "pygments_lexer": "ipython3",
   "version": "3.9.12"
  }
 },
 "nbformat": 4,
 "nbformat_minor": 5
}
